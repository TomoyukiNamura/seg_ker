{
 "cells": [
  {
   "cell_type": "markdown",
   "metadata": {},
   "source": [
    "# Pandas入門"
   ]
  },
  {
   "cell_type": "markdown",
   "metadata": {},
   "source": [
    "# 　"
   ]
  },
  {
   "cell_type": "markdown",
   "metadata": {},
   "source": [
    "## CSVファイル読み込み"
   ]
  },
  {
   "cell_type": "code",
   "execution_count": null,
   "metadata": {},
   "outputs": [],
   "source": [
    "# Pandasを「pd」という略称名で読み込み\n",
    "import pandas as pd"
   ]
  },
  {
   "cell_type": "code",
   "execution_count": null,
   "metadata": {},
   "outputs": [],
   "source": [
    "# CSVファイルを読み込み\n",
    "df = pd.read_csv('california_housing_train.csv')"
   ]
  },
  {
   "cell_type": "code",
   "execution_count": null,
   "metadata": {},
   "outputs": [],
   "source": [
    "# DataFrameという形式で表現される\n",
    "type(df)"
   ]
  },
  {
   "cell_type": "markdown",
   "metadata": {},
   "source": [
    "#  "
   ]
  },
  {
   "cell_type": "markdown",
   "metadata": {},
   "source": [
    "## DataFrameの中身確認"
   ]
  },
  {
   "cell_type": "code",
   "execution_count": null,
   "metadata": {
    "scrolled": false
   },
   "outputs": [],
   "source": [
    "# データ全体を表示\n",
    "df"
   ]
  },
  {
   "cell_type": "code",
   "execution_count": null,
   "metadata": {},
   "outputs": [],
   "source": [
    "# 先頭の数行だけを表示 ",
    "\n",
    "df.head()"
   ]
  },
  {
   "cell_type": "code",
   "execution_count": null,
   "metadata": {},
   "outputs": [],
   "source": [
    "# DataFrameの行数，列数を確認\n",
    "df.shape"
   ]
  },
  {
   "cell_type": "markdown",
   "metadata": {},
   "source": [
    "#  "
   ]
  },
  {
   "cell_type": "markdown",
   "metadata": {},
   "source": [
    "## CSVファイルの書き出し"
   ]
  },
  {
   "cell_type": "code",
   "execution_count": null,
   "metadata": {},
   "outputs": [],
   "source": [
    "# DataFrameのデータのCSVファイルへの書き出し\n",
    "df.to_csv('output_test.csv')"
   ]
  },
  {
   "cell_type": "markdown",
   "metadata": {},
   "source": [
    "#  "
   ]
  },
  {
   "cell_type": "markdown",
   "metadata": {},
   "source": [
    "## 各列の統計量算出"
   ]
  },
  {
   "cell_type": "code",
   "execution_count": null,
   "metadata": {},
   "outputs": [],
   "source": [
    "# DataFrameの各列に対する統計量（平均値や標準偏差等）の算出\n",
    "df.describe()"
   ]
  },
  {
   "cell_type": "markdown",
   "metadata": {},
   "source": [
    "#  "
   ]
  },
  {
   "cell_type": "markdown",
   "metadata": {},
   "source": [
    "## 列同士の相関係数算出"
   ]
  },
  {
   "cell_type": "code",
   "execution_count": null,
   "metadata": {},
   "outputs": [],
   "source": [
    "# DataFrameの各列に対する相関係数の算出\n",
    "df.corr()"
   ]
  },
  {
   "cell_type": "markdown",
   "metadata": {},
   "source": [
    "#  "
   ]
  },
  {
   "cell_type": "markdown",
   "metadata": {},
   "source": [
    "## 行の並べ替え"
   ]
  },
  {
   "cell_type": "code",
   "execution_count": null,
   "metadata": {},
   "outputs": [],
   "source": [
    "# 以下より便宜上，先頭の数行だけ用います\n",
    "df = df.head()\n",
    "df"
   ]
  },
  {
   "cell_type": "code",
   "execution_count": null,
   "metadata": {
    "scrolled": true
   },
   "outputs": [],
   "source": [
    "# total_roomsを基準にDataFrameの行を昇順に並べ替え\n",
    "# 並べ替え結果をdf_asに格納する\n",
    "df_as = df.sort_values(by='total_rooms')"
   ]
  },
  {
   "cell_type": "code",
   "execution_count": null,
   "metadata": {
    "scrolled": false
   },
   "outputs": [],
   "source": [
    "# 並べ替え結果を表示\n",
    "df_as"
   ]
  },
  {
   "cell_type": "code",
   "execution_count": null,
   "metadata": {},
   "outputs": [],
   "source": [
    "# total_roomsを基準にDataFrameの行を降順に並べ替え\n",
    "# 並べ替え結果をdf_deに格納する\n",
    "df_de = df.sort_values(by='total_rooms', ascending=False)"
   ]
  },
  {
   "cell_type": "code",
   "execution_count": null,
   "metadata": {
    "scrolled": false
   },
   "outputs": [],
   "source": [
    "# 並べ替え結果を表示\n",
    "df_de"
   ]
  },
  {
   "cell_type": "markdown",
   "metadata": {},
   "source": [
    "#  "
   ]
  },
  {
   "cell_type": "markdown",
   "metadata": {},
   "source": [
    "## 行列番号によるデータ選択"
   ]
  },
  {
   "cell_type": "code",
   "execution_count": null,
   "metadata": {},
   "outputs": [],
   "source": [
    "# DataFrameから0行1列目の値を選択（番号を整数で指定）\n",
    "df.iloc[0, 1]\n",
    "\n",
    "# python標準のデータ型で結果を返す"
   ]
  },
  {
   "cell_type": "code",
   "execution_count": null,
   "metadata": {},
   "outputs": [],
   "source": [
    "# DataFrameから0行1列目の値を選択（番号をリストで指定）\n",
    "df.iloc[[0], [1]]\n",
    "\n",
    "# DataFrameの形式のまま結果を返す"
   ]
  },
  {
   "cell_type": "code",
   "execution_count": null,
   "metadata": {},
   "outputs": [],
   "source": [
    "# DataFrameから 0〜5 行 0〜2 列目の値を選択\n",
    "df.iloc[0:6, 0:3]"
   ]
  },
  {
   "cell_type": "code",
   "execution_count": null,
   "metadata": {},
   "outputs": [],
   "source": [
    "# DataFrameから3行目を選択（列の指定なし）\n",
    "df.iloc[[3], :]"
   ]
  },
  {
   "cell_type": "code",
   "execution_count": null,
   "metadata": {
    "scrolled": false
   },
   "outputs": [],
   "source": [
    "# DataFrameから2列目を選択（行の指定なし）\n",
    "df.iloc[:, [2]]"
   ]
  },
  {
   "cell_type": "markdown",
   "metadata": {},
   "source": [
    "#  "
   ]
  },
  {
   "cell_type": "markdown",
   "metadata": {},
   "source": [
    "## 列名によるデータ選択"
   ]
  },
  {
   "cell_type": "code",
   "execution_count": null,
   "metadata": {
    "scrolled": false
   },
   "outputs": [],
   "source": [
    "# DataFrameからlongitudeを選択（列名を文字列で指定）\n",
    "df[\"longitude\"]\n",
    "\n",
    "# Seriesという形式で結果を返す"
   ]
  },
  {
   "cell_type": "code",
   "execution_count": null,
   "metadata": {},
   "outputs": [],
   "source": [
    "# 返される結果がSeries形式であることを確認\n",
    "type(df[\"longitude\"])"
   ]
  },
  {
   "cell_type": "code",
   "execution_count": null,
   "metadata": {
    "scrolled": false
   },
   "outputs": [],
   "source": [
    "# DataFrameからlongitudeを選択（列名をリストで指定）\n",
    "df[[\"longitude\"]]\n",
    "\n",
    "# DataFrameの形式のまま結果を返す"
   ]
  },
  {
   "cell_type": "markdown",
   "metadata": {},
   "source": [
    "#  "
   ]
  },
  {
   "cell_type": "markdown",
   "metadata": {},
   "source": [
    "## 条件指定によるデータ選択"
   ]
  },
  {
   "cell_type": "code",
   "execution_count": null,
   "metadata": {
    "scrolled": false
   },
   "outputs": [],
   "source": [
    "## housing_median_ageの値が15より大きい行のみ選択\n",
    "\n",
    "# 手順１：条件に合致する行ならTrue，そうでないならFalseを要素とするSeriesを作成\n",
    "mask = df['housing_median_age'] > 15\n",
    "mask"
   ]
  },
  {
   "cell_type": "code",
   "execution_count": null,
   "metadata": {
    "scrolled": false
   },
   "outputs": [],
   "source": [
    "# 手順２\n",
    "df[mask]"
   ]
  },
  {
   "cell_type": "code",
   "execution_count": null,
   "metadata": {
    "scrolled": false
   },
   "outputs": [],
   "source": [
    "# 手順１と手順２は一行で実行可能\n",
    "df[df['housing_median_age'] > 15]"
   ]
  },
  {
   "cell_type": "code",
   "execution_count": null,
   "metadata": {
    "scrolled": false
   },
   "outputs": [],
   "source": [
    "## housing_median_ageの値が15より小さい，または19より大きい行のみ選択\n",
    "\n",
    "# 手順１：条件に合致する行ならTrue，そうでないならFalseを要素とするSeriesを作成\n",
    "mask2 = (df['housing_median_age'] < 15) | (df['housing_median_age'] > 19)\n",
    "\n",
    "# 手順２\n",
    "df[mask2]"
   ]
  },
  {
   "cell_type": "code",
   "execution_count": null,
   "metadata": {
    "scrolled": false
   },
   "outputs": [],
   "source": [
    "## housing_median_ageの値が15より大きい，かつ19より小さい行のみ選択\n",
    "\n",
    "# 手順１：条件に合致する行ならTrue，そうでないならFalseを要素とするSeriesを作成\n",
    "mask3 = (df['housing_median_age'] > 15) & (df['housing_median_age'] < 19)\n",
    "\n",
    "# 手順２\n",
    "df[mask3]"
   ]
  },
  {
   "cell_type": "markdown",
   "metadata": {},
   "source": [
    "#  "
   ]
  },
  {
   "cell_type": "markdown",
   "metadata": {},
   "source": [
    "## 条件指定によるデータの置換"
   ]
  },
  {
   "cell_type": "code",
   "execution_count": null,
   "metadata": {
    "scrolled": false
   },
   "outputs": [],
   "source": [
    "## housing_median_ageが19より大きい場合，値を19に書き換える\n",
    "\n",
    "# 手順１：条件に合致する行ならTrue，そうでないならFalseを要素とするSeriesを作成\n",
    "mask = df[\"housing_median_age\"] > 19\n",
    "mask\n",
    "\n",
    "# 手順２\n",
    "df.loc[mask, \"housing_median_age\"] = 19\n",
    "df"
   ]
  },
  {
   "cell_type": "markdown",
   "metadata": {},
   "source": [
    "#  "
   ]
  },
  {
   "cell_type": "markdown",
   "metadata": {},
   "source": [
    "## 欠損値の処理"
   ]
  },
  {
   "cell_type": "code",
   "execution_count": null,
   "metadata": {},
   "outputs": [],
   "source": [
    "# 欠損値を人為的に作成\n",
    "df.iloc[0,:][\"latitude\"] = None\n",
    "df.iloc[2,:][\"longitude\"] = None\n",
    "df.iloc[4,:][\"housing_median_age\"] = None\n",
    "df"
   ]
  },
  {
   "cell_type": "code",
   "execution_count": null,
   "metadata": {},
   "outputs": [],
   "source": [
    "## 欠損値のある行の除外（ある1列の欠損にのみ着目）\n",
    "\n",
    "# 手順１：欠損がある行ならTrue，そうでないならFalseを要素とするSeriesを作成\n",
    "mask = df[\"latitude\"].isna()==False\n",
    "\n",
    "# 手順２\n",
    "df_nan_removed = df[mask]\n",
    "df_nan_removed"
   ]
  },
  {
   "cell_type": "code",
   "execution_count": null,
   "metadata": {},
   "outputs": [],
   "source": [
    "## 欠損値のある行の除外（全ての列の欠損に着目）\n",
    "df_nan_removed = df.dropna()\n",
    "df_nan_removed"
   ]
  },
  {
   "cell_type": "code",
   "execution_count": null,
   "metadata": {},
   "outputs": [],
   "source": [
    "## 欠損値を別の値で補間（ある1つの列のみに対して補間）\n",
    "df[\"latitude\"] = df[\"latitude\"].fillna(30)\n",
    "df"
   ]
  },
  {
   "cell_type": "code",
   "execution_count": null,
   "metadata": {},
   "outputs": [],
   "source": [
    "## 欠損値を別の値で補間（全ての列に対し一括で補間）\n",
    "\n",
    "# 手順１：列ごとの補間値示すSeriesを作成（平均値で補間）\n",
    "mean = df.mean()\n",
    "mean"
   ]
  },
  {
   "cell_type": "code",
   "execution_count": null,
   "metadata": {},
   "outputs": [],
   "source": [
    "# 手順２\n",
    "df_replaced = df.fillna(mean)\n",
    "df_replaced"
   ]
  }
 ],
 "metadata": {
  "kernelspec": {
   "display_name": "Python 3",
   "language": "python",
   "name": "python3"
  },
  "language_info": {
   "codemirror_mode": {
    "name": "ipython",
    "version": 3
   },
   "file_extension": ".py",
   "mimetype": "text/x-python",
   "name": "python",
   "nbconvert_exporter": "python",
   "pygments_lexer": "ipython3",
   "version": "3.6.8"
  }
 },
 "nbformat": 4,
 "nbformat_minor": 2
}
